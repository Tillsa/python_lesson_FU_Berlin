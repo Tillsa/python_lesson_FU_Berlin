{
 "cells": [
  {
   "cell_type": "code",
   "execution_count": 1,
   "id": "3edcda93",
   "metadata": {},
   "outputs": [],
   "source": [
    "import urllib.request\n",
    "import json"
   ]
  },
  {
   "cell_type": "code",
   "execution_count": 21,
   "id": "3226f084",
   "metadata": {},
   "outputs": [
    {
     "name": "stdout",
     "output_type": "stream",
     "text": [
      "git repository for paper on git and reproducible science\n",
      "- 10.6084/m9.figshare.155613\n",
      "- https://doi.org/10.6084/m9.figshare.155613\n",
      "- Dataset\n",
      "- figshare\n",
      "- 2013\n",
      "-----------------\n",
      "git can facilitate greater reproducibility and increased transparency in science\n",
      "- 10.6084/m9.figshare.153821.v1\n",
      "- https://doi.org/10.6084/m9.figshare.153821.v1\n",
      "- Dataset\n",
      "- figshare\n",
      "- 2013\n",
      "-----------------\n",
      "The role of the German National Library for Life Sciences ZB MED in the approach to a FAIR Research Data Infrastructure in Agricultural Science embedded in the Life Sciences\n",
      "- 10.7490/f1000research.1115338.1\n",
      "- https://doi.org/10.7490/f1000research.1115338.1\n",
      "- Other\n",
      "- F1000 Research Limited\n",
      "- 2018\n",
      "-----------------\n",
      "Nachnutzbare Awarenessmaterialien für Forschungsdatenmanagement (FDM)\n",
      "- 10.5281/zenodo.2599866\n",
      "- https://doi.org/10.5281/zenodo.2599866\n",
      "- Other\n",
      "- Zenodo\n",
      "- 2019\n",
      "-----------------\n"
     ]
    }
   ],
   "source": [
    "dois = [\"10.6084/m9.figshare.155613\",\n",
    "        \"10.6084/m9.figshare.153821.v1\",\n",
    "        \"10.7490/f1000research.1115338.1\",\n",
    "        \"10.5281/zenodo.2599866\"]\n",
    "\n",
    "base_url = \"https://api.datacite.org/application/vnd.datacite.datacite+json/\"\n",
    "\n",
    "for doi in dois:\n",
    "    full_url = base_url + doi\n",
    "    doi_json_dataset = urllib.request.urlopen(full_url).read()\n",
    "    doi_dataset = json.loads(doi_json_dataset)\n",
    "    print(doi_dataset[\"titles\"][0][\"title\"])\n",
    "    print(\"- \" + doi)\n",
    "    print(\"- \" + doi_dataset[\"id\"])\n",
    "    print(\"- \" + doi_dataset[\"types\"][\"resourceTypeGeneral\"])\n",
    "    print(\"- \" + doi_dataset[\"publisher\"])\n",
    "    print(\"- \" + str(doi_dataset[\"publicationYear\"]))\n",
    "    print(\"-----------------\")"
   ]
  },
  {
   "cell_type": "code",
   "execution_count": 16,
   "id": "51d060bf",
   "metadata": {},
   "outputs": [],
   "source": [
    "publication_year = 2002"
   ]
  },
  {
   "cell_type": "code",
   "execution_count": 18,
   "id": "062fd872",
   "metadata": {},
   "outputs": [],
   "source": [
    "notifiaction = \"Year of publication: \""
   ]
  },
  {
   "cell_type": "code",
   "execution_count": 19,
   "id": "8fddcba8",
   "metadata": {},
   "outputs": [
    {
     "ename": "TypeError",
     "evalue": "can only concatenate str (not \"int\") to str",
     "output_type": "error",
     "traceback": [
      "\u001b[0;31m---------------------------------------------------------------------------\u001b[0m",
      "\u001b[0;31mTypeError\u001b[0m                                 Traceback (most recent call last)",
      "\u001b[0;32m<ipython-input-19-1a39416f04a1>\u001b[0m in \u001b[0;36m<module>\u001b[0;34m\u001b[0m\n\u001b[0;32m----> 1\u001b[0;31m \u001b[0mnotifiaction\u001b[0m \u001b[0;34m+\u001b[0m \u001b[0mpublication_year\u001b[0m\u001b[0;34m\u001b[0m\u001b[0;34m\u001b[0m\u001b[0m\n\u001b[0m",
      "\u001b[0;31mTypeError\u001b[0m: can only concatenate str (not \"int\") to str"
     ]
    }
   ],
   "source": [
    "notifiaction + publication_year"
   ]
  },
  {
   "cell_type": "code",
   "execution_count": 20,
   "id": "8c261523",
   "metadata": {},
   "outputs": [
    {
     "data": {
      "text/plain": [
       "'Year of publication: 2002'"
      ]
     },
     "execution_count": 20,
     "metadata": {},
     "output_type": "execute_result"
    }
   ],
   "source": [
    "notifiaction + str(publication_year)"
   ]
  },
  {
   "cell_type": "code",
   "execution_count": null,
   "id": "8418584e",
   "metadata": {},
   "outputs": [],
   "source": []
  }
 ],
 "metadata": {
  "kernelspec": {
   "display_name": "Python 3",
   "language": "python",
   "name": "python3"
  },
  "language_info": {
   "codemirror_mode": {
    "name": "ipython",
    "version": 3
   },
   "file_extension": ".py",
   "mimetype": "text/x-python",
   "name": "python",
   "nbconvert_exporter": "python",
   "pygments_lexer": "ipython3",
   "version": "3.8.10"
  }
 },
 "nbformat": 4,
 "nbformat_minor": 5
}
